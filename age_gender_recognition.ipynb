{
 "cells": [
  {
   "cell_type": "code",
   "execution_count": 1,
   "id": "7f8a30a0",
   "metadata": {},
   "outputs": [],
   "source": [
    "import cv2\n",
    "import numpy as np"
   ]
  },
  {
   "cell_type": "code",
   "execution_count": 63,
   "id": "3e05d67b",
   "metadata": {},
   "outputs": [],
   "source": [
    "age_weights=\"C:\\\\Users\\\\kasuk\\\\OneDrive\\\\Desktop\\\\python files\\\\age_deploy.prototxt.txt\"\n",
    "age_config=\"C:\\\\Users\\\\kasuk\\\\OneDrive\\\\Desktop\\\\python files\\\\age_net (1).caffemodel\"\n",
    "gender_weights=\"C:\\\\Users\\\\kasuk\\\\OneDrive\\\\Desktop\\\\python files\\\\gender_deploy.prototxt.txt\"\n",
    "gender_config=\"C:\\\\Users\\\\kasuk\\\\OneDrive\\\\Desktop\\\\python files\\\\gender_net (1).caffemodel\""
   ]
  },
  {
   "cell_type": "code",
   "execution_count": 3,
   "id": "3e524808",
   "metadata": {},
   "outputs": [],
   "source": [
    "face_cascade=cv2.CascadeClassifier(cv2.data.haarcascades+'haarcascade_frontalface_default.xml')"
   ]
  },
  {
   "cell_type": "code",
   "execution_count": 65,
   "id": "32511f80",
   "metadata": {},
   "outputs": [],
   "source": [
    "age_Net=cv2.dnn.readNet(age_weights,age_config)\n",
    "gender_Net=cv2.dnn.readNet(gender_weights,gender_config)"
   ]
  },
  {
   "cell_type": "code",
   "execution_count": 66,
   "id": "b95d0bf1",
   "metadata": {},
   "outputs": [],
   "source": [
    "age_list=['(0-2)','(4-6)','(8-12)','(15-20)','(25-32)','(38-43)','(48-53)','(60-100)']\n",
    "gender_list=['Male','Female']\n",
    "model_mean=(78.4263377,87.7689143,114.8958477)"
   ]
  },
  {
   "cell_type": "code",
   "execution_count": 83,
   "id": "ba145bf1",
   "metadata": {},
   "outputs": [
    {
     "data": {
      "text/plain": [
       "True"
      ]
     },
     "execution_count": 83,
     "metadata": {},
     "output_type": "execute_result"
    }
   ],
   "source": [
    "cam=cv2.VideoCapture(0)\n",
    "cam.set(cv2.CAP_PROP_FRAME_WIDTH,1280)\n",
    "cam.set(cv2.CAP_PROP_FRAME_HEIGHT,720)"
   ]
  },
  {
   "cell_type": "code",
   "execution_count": 84,
   "id": "8fbb7fe8",
   "metadata": {},
   "outputs": [],
   "source": [
    "boxes=[]\n",
    "while cam.isOpened():\n",
    "    ret,frame=cam.read()\n",
    "    face=face_cascade.detectMultiScale(frame,1.1,5)\n",
    "    for (x,y,w,h) in face:\n",
    "        cv2.rectangle(frame,(x,y),(x+w,y+h),(0,255,0),3)\n",
    "        \n",
    "        face_coordinates=frame[y:y+h,x:x+w]\n",
    "        blob=cv2.dnn.blobFromImage(face_coordinates,1.0,(227,227),model_mean,swapRB=False)\n",
    "        age_Net.setInput(blob)\n",
    "        gender_Net.setInput(blob)\n",
    "        age_pred=age_Net.forward()\n",
    "        gender_pred=gender_Net.forward()\n",
    "        #print(age_pred)\n",
    "        age=age_list[age_pred[0].argmax()]\n",
    "        gender=gender_list[gender_pred[0].argmax()]\n",
    "        cv2.putText(frame,age,(x+5,y-10),cv2.FONT_HERSHEY_SIMPLEX,0.7,(255,255,255),3)\n",
    "        cv2.putText(frame,gender,(x+5,y+20),cv2.FONT_HERSHEY_SIMPLEX,0.7,(0,0,255),3)\n",
    "        \n",
    "    \n",
    "    \n",
    "    cv2.imshow('frame',frame)\n",
    "    if cv2.waitKey(1)==ord('q'):\n",
    "        break\n",
    "    \n",
    "cam.release()"
   ]
  },
  {
   "cell_type": "code",
   "execution_count": null,
   "id": "bf0b676d",
   "metadata": {},
   "outputs": [],
   "source": []
  }
 ],
 "metadata": {
  "kernelspec": {
   "display_name": "Python 3 (ipykernel)",
   "language": "python",
   "name": "python3"
  },
  "language_info": {
   "codemirror_mode": {
    "name": "ipython",
    "version": 3
   },
   "file_extension": ".py",
   "mimetype": "text/x-python",
   "name": "python",
   "nbconvert_exporter": "python",
   "pygments_lexer": "ipython3",
   "version": "3.9.12"
  }
 },
 "nbformat": 4,
 "nbformat_minor": 5
}
